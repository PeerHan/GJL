{
 "cells": [
  {
   "cell_type": "markdown",
   "id": "4a4167f5",
   "metadata": {},
   "source": [
    "# Jazz LSTM\n",
    "\n",
    "## Summary of this Notebook\n",
    "* This is the second Notebook for training a generative Model for Jazz Licks\n",
    "* This Notebook will generate Jazz Licks in midi format based on previously calculated weights based on certain training data.\n",
    "* **Fetch infos for all scales**\n",
    "    * Uses some Functions to fetch information about the processed training material\n",
    "    * The model will be rebuild and loaded with the previously calculated weights\n",
    "    * This will process will be repeated 3 times for every scale \n",
    "* **Generate Jazz Licks**\n",
    "    * In this part the model will predict new Jazz-Lick-Sequences based on the fetched informations\n",
    "    * The New predicted Sequence will be translated in midi format"
   ]
  },
  {
   "cell_type": "markdown",
   "id": "9235d286",
   "metadata": {},
   "source": [
    "## Functions for Data structuring/loading"
   ]
  },
  {
   "cell_type": "code",
   "execution_count": 3,
   "id": "4000dd9a",
   "metadata": {},
   "outputs": [],
   "source": [
    "from utils.midi_generation import get_informations\n",
    "from utils.jazz_lstm import generate_lstm_model\n",
    "from utils.midi_tools import build_note_dict"
   ]
  },
  {
   "cell_type": "markdown",
   "id": "271a4701",
   "metadata": {},
   "source": [
    "# Fetch infos for all Scales"
   ]
  },
  {
   "cell_type": "markdown",
   "id": "f0c70d8f",
   "metadata": {},
   "source": [
    "## Both Scales"
   ]
  },
  {
   "cell_type": "code",
   "execution_count": 4,
   "id": "fea44995",
   "metadata": {},
   "outputs": [
    {
     "name": "stdout",
     "output_type": "stream",
     "text": [
      "Metal device set to: Apple M1 Pro\n"
     ]
    },
    {
     "name": "stderr",
     "output_type": "stream",
     "text": [
      "2022-12-28 14:27:49.766277: I tensorflow/core/common_runtime/pluggable_device/pluggable_device_factory.cc:306] Could not identify NUMA node of platform GPU ID 0, defaulting to 0. Your kernel may not have been built with NUMA support.\n",
      "2022-12-28 14:27:49.766623: I tensorflow/core/common_runtime/pluggable_device/pluggable_device_factory.cc:272] Created TensorFlow device (/job:localhost/replica:0/task:0/device:GPU:0 with 0 MB memory) -> physical PluggableDevice (device: 0, name: METAL, pci bus id: <undefined>)\n"
     ]
    }
   ],
   "source": [
    "# Fetch Informations to build Midi files\n",
    "notes_informations, durs_informations = get_informations()\n",
    "# Build the network based on the amount of unique notes and durs\n",
    "jazz_model = generate_lstm_model(notes_informations[2], durs_informations[2])\n",
    "\n",
    "# Load previously trained weights\n",
    "weights_both = f'weights/both/weights.h5'\n",
    "jazz_model.load_weights(weights_both)\n",
    "#jazz_model.summary()"
   ]
  },
  {
   "cell_type": "markdown",
   "id": "137c2497",
   "metadata": {},
   "source": [
    "## Diatonic"
   ]
  },
  {
   "cell_type": "code",
   "execution_count": 5,
   "id": "85f43561",
   "metadata": {},
   "outputs": [],
   "source": [
    "notes_informations_dia, durs_informations_dia = get_informations('diatonic')\n",
    "\n",
    "jazz_model_dia = generate_lstm_model(notes_informations_dia[2], durs_informations_dia[2])\n",
    "weights_dia = f'weights/diatonic/weights.h5'\n",
    "jazz_model_dia.load_weights(weights_dia)\n",
    "#jazz_model_dia.summary()"
   ]
  },
  {
   "cell_type": "markdown",
   "id": "83378483",
   "metadata": {},
   "source": [
    "## Alterated"
   ]
  },
  {
   "cell_type": "code",
   "execution_count": 6,
   "id": "9658775a",
   "metadata": {},
   "outputs": [],
   "source": [
    "notes_informations_alt, durs_informations_alt = get_informations('alterated')\n",
    "\n",
    "jazz_model_alt = generate_lstm_model(notes_informations_alt[2], durs_informations_alt[2])\n",
    "weights_alt = f'weights/alterated/weights.h5'\n",
    "jazz_model_alt.load_weights(weights_alt)\n",
    "#jazz_model_alt.summary()"
   ]
  },
  {
   "cell_type": "markdown",
   "id": "8f5fab44",
   "metadata": {},
   "source": [
    "# Generate Jazz Licks"
   ]
  },
  {
   "cell_type": "code",
   "execution_count": 7,
   "id": "88618f99",
   "metadata": {},
   "outputs": [],
   "source": [
    "from utils.midi_generation import generate_n_licks"
   ]
  },
  {
   "cell_type": "markdown",
   "id": "05e3b1b3",
   "metadata": {},
   "source": [
    "## Both Scales"
   ]
  },
  {
   "cell_type": "code",
   "execution_count": 8,
   "id": "378d7f21",
   "metadata": {
    "scrolled": false
   },
   "outputs": [
    {
     "name": "stderr",
     "output_type": "stream",
     "text": [
      "2022-12-28 14:28:01.011995: W tensorflow/core/platform/profile_utils/cpu_utils.cc:128] Failed to get CPU frequency: 0 Hz\n",
      "2022-12-28 14:28:01.188335: I tensorflow/core/grappler/optimizers/custom_graph_optimizer_registry.cc:114] Plugin optimizer for device_type GPU is enabled.\n",
      "2022-12-28 14:28:01.258683: I tensorflow/core/grappler/optimizers/custom_graph_optimizer_registry.cc:114] Plugin optimizer for device_type GPU is enabled.\n",
      "2022-12-28 14:28:01.329401: I tensorflow/core/grappler/optimizers/custom_graph_optimizer_registry.cc:114] Plugin optimizer for device_type GPU is enabled.\n"
     ]
    }
   ],
   "source": [
    "generate_n_licks(126, jazz_model, notes_informations, durs_informations)"
   ]
  },
  {
   "cell_type": "markdown",
   "id": "67f7d179",
   "metadata": {},
   "source": [
    "## Diatonic"
   ]
  },
  {
   "cell_type": "code",
   "execution_count": 9,
   "id": "cc644495",
   "metadata": {},
   "outputs": [
    {
     "name": "stderr",
     "output_type": "stream",
     "text": [
      "2022-12-28 14:29:09.879109: I tensorflow/core/grappler/optimizers/custom_graph_optimizer_registry.cc:114] Plugin optimizer for device_type GPU is enabled.\n",
      "2022-12-28 14:29:09.939210: I tensorflow/core/grappler/optimizers/custom_graph_optimizer_registry.cc:114] Plugin optimizer for device_type GPU is enabled.\n",
      "2022-12-28 14:29:09.982053: I tensorflow/core/grappler/optimizers/custom_graph_optimizer_registry.cc:114] Plugin optimizer for device_type GPU is enabled.\n"
     ]
    }
   ],
   "source": [
    "generate_n_licks(72, jazz_model_dia, notes_informations_dia, durs_informations_dia, 'diatonic')"
   ]
  },
  {
   "cell_type": "markdown",
   "id": "97c8711d",
   "metadata": {},
   "source": [
    "## Alterated"
   ]
  },
  {
   "cell_type": "code",
   "execution_count": 10,
   "id": "8dc59a9b",
   "metadata": {},
   "outputs": [
    {
     "name": "stderr",
     "output_type": "stream",
     "text": [
      "2022-12-28 14:29:49.680532: I tensorflow/core/grappler/optimizers/custom_graph_optimizer_registry.cc:114] Plugin optimizer for device_type GPU is enabled.\n",
      "2022-12-28 14:29:49.748433: I tensorflow/core/grappler/optimizers/custom_graph_optimizer_registry.cc:114] Plugin optimizer for device_type GPU is enabled.\n",
      "2022-12-28 14:29:49.793607: I tensorflow/core/grappler/optimizers/custom_graph_optimizer_registry.cc:114] Plugin optimizer for device_type GPU is enabled.\n"
     ]
    }
   ],
   "source": [
    "generate_n_licks(54, jazz_model_alt, notes_informations_alt, durs_informations_alt, 'alterated')"
   ]
  }
 ],
 "metadata": {
  "kernelspec": {
   "display_name": "Python 3 (ipykernel)",
   "language": "python",
   "name": "python3"
  },
  "language_info": {
   "codemirror_mode": {
    "name": "ipython",
    "version": 3
   },
   "file_extension": ".py",
   "mimetype": "text/x-python",
   "name": "python",
   "nbconvert_exporter": "python",
   "pygments_lexer": "ipython3",
   "version": "3.10.6"
  }
 },
 "nbformat": 4,
 "nbformat_minor": 5
}
